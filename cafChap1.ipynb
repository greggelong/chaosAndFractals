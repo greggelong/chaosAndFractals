{
 "cells": [
  {
   "cell_type": "markdown",
   "id": "ed8f19cb",
   "metadata": {},
   "source": [
    "# Chaos and Fractals Chapter 1\n",
    "## functions"
   ]
  },
  {
   "cell_type": "markdown",
   "id": "0020a45a",
   "metadata": {},
   "source": [
    "let g be the doubing function"
   ]
  },
  {
   "cell_type": "code",
   "execution_count": 18,
   "id": "eb227f83",
   "metadata": {},
   "outputs": [],
   "source": [
    "def g(x):\n",
    "    return x*2"
   ]
  },
  {
   "cell_type": "code",
   "execution_count": 7,
   "id": "786f3f7a",
   "metadata": {},
   "outputs": [
    {
     "name": "stdout",
     "output_type": "stream",
     "text": [
      "6 0 34 0.8 -6\n"
     ]
    }
   ],
   "source": [
    "print(g(3), g(0), g(17), g(0.4),g(-3))"
   ]
  },
  {
   "cell_type": "markdown",
   "id": "4b190f87",
   "metadata": {},
   "source": [
    "let h be a function that takes a number, quadruples it, and subtracts 3"
   ]
  },
  {
   "cell_type": "code",
   "execution_count": 8,
   "id": "465b803a",
   "metadata": {},
   "outputs": [],
   "source": [
    "def h(x):\n",
    "    return x*4 -3"
   ]
  },
  {
   "cell_type": "code",
   "execution_count": 9,
   "id": "026ed5f0",
   "metadata": {},
   "outputs": [
    {
     "name": "stdout",
     "output_type": "stream",
     "text": [
      "17 -3 -1.0 -7\n"
     ]
    }
   ],
   "source": [
    "print(h(5),h(0),h(0.5), h(-1))"
   ]
  },
  {
   "cell_type": "markdown",
   "id": "a598f605",
   "metadata": {},
   "source": [
    "let f be a number that subtracts 3 then quadruples it"
   ]
  },
  {
   "cell_type": "code",
   "execution_count": 10,
   "id": "dd421a01",
   "metadata": {},
   "outputs": [],
   "source": [
    "def f(x):\n",
    "    return (x-3)*4"
   ]
  },
  {
   "cell_type": "code",
   "execution_count": 12,
   "id": "62021e75",
   "metadata": {},
   "outputs": [
    {
     "name": "stdout",
     "output_type": "stream",
     "text": [
      "8 -12 -10.0 -16\n"
     ]
    }
   ],
   "source": [
    "print(f(5),f(0),f(0.5), f(-1))"
   ]
  },
  {
   "cell_type": "markdown",
   "id": "759b22ef",
   "metadata": {},
   "source": [
    "1.4 "
   ]
  },
  {
   "cell_type": "code",
   "execution_count": 14,
   "id": "4d09e108",
   "metadata": {},
   "outputs": [],
   "source": [
    "def g1(x):\n",
    "    return (x**2)+3"
   ]
  },
  {
   "cell_type": "code",
   "execution_count": 15,
   "id": "9a8063e0",
   "metadata": {},
   "outputs": [
    {
     "name": "stdout",
     "output_type": "stream",
     "text": [
      "3 4 4 7 12 19\n"
     ]
    }
   ],
   "source": [
    "print(g1(0), g1(1), g1(-1), g1(2), g1(2+1), g1(g1(1)))"
   ]
  },
  {
   "cell_type": "code",
   "execution_count": 17,
   "id": "c3c22b1d",
   "metadata": {},
   "outputs": [
    {
     "data": {
      "text/plain": [
       "False"
      ]
     },
     "execution_count": 17,
     "metadata": {},
     "output_type": "execute_result"
    }
   ],
   "source": [
    "g1(2+1) == g1(2)+g1(1)"
   ]
  },
  {
   "cell_type": "markdown",
   "id": "ef60448e",
   "metadata": {},
   "source": [
    "1.5 doubling function again"
   ]
  },
  {
   "cell_type": "code",
   "execution_count": 19,
   "id": "9d15a236",
   "metadata": {},
   "outputs": [
    {
     "name": "stdout",
     "output_type": "stream",
     "text": [
      "0 2 4 6 0 4\n"
     ]
    }
   ],
   "source": [
    "print(g(0),g(1),g(2),g(2+1),g(g(0)),g(g(1)))"
   ]
  },
  {
   "cell_type": "code",
   "execution_count": 20,
   "id": "0dad77c8",
   "metadata": {},
   "outputs": [
    {
     "data": {
      "text/plain": [
       "True"
      ]
     },
     "execution_count": 20,
     "metadata": {},
     "output_type": "execute_result"
    }
   ],
   "source": [
    "g(2+1) == g(2)+g(1)"
   ]
  },
  {
   "cell_type": "markdown",
   "id": "9d1a91a1",
   "metadata": {},
   "source": [
    "the above is true becaue 1.5 is a linear function and 1.4 is a quadratic equation"
   ]
  }
 ],
 "metadata": {
  "kernelspec": {
   "display_name": "Python 3",
   "language": "python",
   "name": "python3"
  },
  "language_info": {
   "codemirror_mode": {
    "name": "ipython",
    "version": 3
   },
   "file_extension": ".py",
   "mimetype": "text/x-python",
   "name": "python",
   "nbconvert_exporter": "python",
   "pygments_lexer": "ipython3",
   "version": "3.8.8"
  }
 },
 "nbformat": 4,
 "nbformat_minor": 5
}
